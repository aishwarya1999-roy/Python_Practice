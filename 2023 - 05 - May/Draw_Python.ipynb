{
 "cells": [
  {
   "cell_type": "code",
   "execution_count": null,
   "metadata": {},
   "outputs": [],
   "source": [
    "import numpy as np\n",
    "import cv2 as cv\n",
    "\n",
    "import random\n",
    "\n",
    "# general parameters\n",
    "width = 900\n",
    "height = 600\n",
    "n_trees = 30\n",
    "ground_level = height-100\n",
    "\n",
    "# colours\n",
    "green, light_green, brown = (40,185,40),(25,220,0),(30,65,155)\n",
    "\n",
    "# blank image\n",
    "bg = np.zeros((height, width, 3), dtype=np.uint8)\n",
    "\n",
    "# draw background\n",
    "cv.rectangle(bg,(width,0), (0, ground_level), (255,225,95), -1)\n",
    "cv.rectangle(bg,(width, ground_level), (0, height), green, -1)\n"
   ]
  }
 ],
 "metadata": {
  "kernelspec": {
   "display_name": "Python 3",
   "language": "python",
   "name": "python3"
  },
  "language_info": {
   "name": "python",
   "version": "3.11.3"
  },
  "orig_nbformat": 4
 },
 "nbformat": 4,
 "nbformat_minor": 2
}
