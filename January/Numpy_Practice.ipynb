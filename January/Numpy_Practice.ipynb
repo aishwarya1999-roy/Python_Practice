{
 "cells": [
  {
   "attachments": {},
   "cell_type": "markdown",
   "metadata": {},
   "source": [
    "**NUMPY Basics**"
   ]
  },
  {
   "cell_type": "code",
   "execution_count": 2,
   "metadata": {},
   "outputs": [
    {
     "name": "stdout",
     "output_type": "stream",
     "text": [
      "[78, 47, 97, 55, 34]\n",
      "CPU times: total: 0 ns\n",
      "Wall time: 988 µs\n"
     ]
    }
   ],
   "source": [
    "%%time\n",
    "marks = [78, 47, 97, 55, 34]\n",
    "for i in range(len(marks)):\n",
    "    marks[i]+5\n",
    "print(marks)"
   ]
  },
  {
   "cell_type": "code",
   "execution_count": 38,
   "metadata": {},
   "outputs": [
    {
     "name": "stdout",
     "output_type": "stream",
     "text": [
      "CPU times: total: 0 ns\n",
      "Wall time: 0 ns\n"
     ]
    }
   ],
   "source": [
    "%%time\n",
    "item_list = ['Bread', 'Milk', 'Eggs', 'Butter', 'Cocoa']\n",
    "marks = [78, 47, 96, 55, 34]\n",
    "hetero_list =  [ 1,2,3.0, 'text', True, 3+2j ]\n"
   ]
  },
  {
   "cell_type": "code",
   "execution_count": 5,
   "metadata": {},
   "outputs": [
    {
     "name": "stdout",
     "output_type": "stream",
     "text": [
      "CPU times: total: 188 ms\n",
      "Wall time: 179 ms\n"
     ]
    }
   ],
   "source": [
    "%%time\n",
    "#making list without numpy\n",
    "list1 = list(range(1,1000000))\n",
    "list2 = list(range(2,1000001))\n",
    "list3 = []\n",
    "for i in range(len(list1)):\n",
    "    list3.append(list1[i]+list2[i])\n"
   ]
  },
  {
   "cell_type": "code",
   "execution_count": 88,
   "metadata": {},
   "outputs": [
    {
     "name": "stdout",
     "output_type": "stream",
     "text": [
      "CPU times: total: 15.6 ms\n",
      "Wall time: 6.58 ms\n"
     ]
    }
   ],
   "source": [
    "%%time\n",
    "#making list using numpy\n",
    "import numpy as np\n",
    "a = np.arange(1,1000000)\n",
    "b = np.arange(2,1000001)\n",
    "c = a+b"
   ]
  },
  {
   "cell_type": "code",
   "execution_count": 87,
   "metadata": {},
   "outputs": [
    {
     "name": "stdout",
     "output_type": "stream",
     "text": [
      "[1 2 3 4 5 6 7 8 9]\n",
      "[ 2  3  4  5  6  7  8  9 10]\n",
      "[ 3  5  7  9 11 13 15 17 19]\n",
      "CPU times: total: 0 ns\n",
      "Wall time: 996 µs\n"
     ]
    },
    {
     "data": {
      "text/plain": [
       "array([1, 2, 3, 4, 5, 6, 7, 8, 9])"
      ]
     },
     "execution_count": 87,
     "metadata": {},
     "output_type": "execute_result"
    }
   ],
   "source": [
    "%%time\n",
    "#making list using numpy\n",
    "import numpy as np\n",
    "a = np.arange(1,10)\n",
    "b = np.arange(2,11)\n",
    "print(a)\n",
    "print(b)\n",
    "c = a+b\n",
    "print(c)"
   ]
  },
  {
   "cell_type": "code",
   "execution_count": 39,
   "metadata": {},
   "outputs": [
    {
     "data": {
      "text/plain": [
       "array([1, 3, 4, 6])"
      ]
     },
     "execution_count": 39,
     "metadata": {},
     "output_type": "execute_result"
    }
   ],
   "source": [
    "#creating array using numpy\n",
    "import numpy as np\n",
    "marks_arr = np.array([1,3,4,6])\n",
    "marks_arr\n"
   ]
  },
  {
   "cell_type": "code",
   "execution_count": 40,
   "metadata": {},
   "outputs": [
    {
     "data": {
      "text/plain": [
       "array([130, 165, 150, 150, 140])"
      ]
     },
     "execution_count": 40,
     "metadata": {},
     "output_type": "execute_result"
    }
   ],
   "source": [
    "#import the list in a numpy array\n",
    "Numbers = [130, 165, 150, 150, 140]\n",
    "numbers_array = np.array(Numbers)\n",
    "numbers_array\n"
   ]
  },
  {
   "attachments": {},
   "cell_type": "markdown",
   "metadata": {},
   "source": [
    "**2D ARRAY**"
   ]
  },
  {
   "cell_type": "code",
   "execution_count": 140,
   "metadata": {},
   "outputs": [
    {
     "name": "stdout",
     "output_type": "stream",
     "text": [
      "[1] (1,)\n",
      "[1 2] (2,)\n",
      "[1 2 3] (3,)\n",
      "\n",
      " \n",
      " \n",
      "\n",
      "[[1]\n",
      " [2]] (2, 1)\n",
      "[[1 2]\n",
      " [3 4]] (2, 2)\n",
      "[[1 2 3]\n",
      " [4 5 6]] (2, 3)\n",
      "\n",
      " \n",
      " \n",
      "\n",
      "[[1]\n",
      " [2]\n",
      " [3]] (3, 1)\n",
      "[[1 2]\n",
      " [3 4]\n",
      " [5 6]] (3, 2)\n",
      "[[1 2 3]\n",
      " [4 5 6]\n",
      " [7 8 9]] (3, 3)\n"
     ]
    }
   ],
   "source": [
    "onebyone = np.array([1])#1X1\n",
    "print(onebyone, onebyone.shape)\n",
    "\n",
    "onebytwo = np.array([1,2]) #1X2\n",
    "print(onebytwo, onebytwo.shape)\n",
    "\n",
    "onebythree = np.array([1,2,3]) #1X3\n",
    "print(onebythree, onebythree.shape)\n",
    "\n",
    "print(\"\\n \\n \\n\")\n",
    "\n",
    "\n",
    "twobyone = np.array([[1], [2]]) #2X1\n",
    "print(twobyone, twobyone.shape)\n",
    "\n",
    "twobytwo = np.array([[1, 2], [3, 4]]) #2X2\n",
    "print(twobytwo, twobytwo.shape)\n",
    "\n",
    "twobythree = np.array([[1, 2, 3], [4, 5, 6]]) #2X3\n",
    "print(twobythree, twobythree.shape)\n",
    "\n",
    "print(\"\\n \\n \\n\")\n",
    "\n",
    "threebyone = np.array([[1], [2], [3]]) #3X1\n",
    "print(threebyone, threebyone .shape)\n",
    "\n",
    "threebytwo = np.array([[1, 2], [3, 4], [5,6]]) #3X2\n",
    "print(threebytwo, threebytwo.shape)\n",
    "\n",
    "threebythree = np.array([[1, 2, 3], [4, 5, 6], [7,8,9]]) #3X3\n",
    "print(threebythree, threebythree.shape)\n"
   ]
  },
  {
   "cell_type": "code",
   "execution_count": 41,
   "metadata": {},
   "outputs": [
    {
     "name": "stdout",
     "output_type": "stream",
     "text": [
      "[[ 18  15  18  16  17]\n",
      " [130 165 150 150 140]\n",
      " [307 350 318 304 302]]\n",
      "(3, 5)\n",
      "int32\n",
      "[[ 18.  15.  18.  16.  17.]\n",
      " [130. 165. 150. 150. 140.]\n",
      " [307. 350. 318. 304. 302.]]\n",
      "float64\n"
     ]
    }
   ],
   "source": [
    "import numpy as np\n",
    "#making 2D array\n",
    "two_dimen = [[18, 15, 18, 16, 17],[130, 165, 150, 150, 140],[307, 350, 318, 304, 302]]\n",
    "two_dimen_array = np.array(two_dimen)\n",
    "print(two_dimen_array)\n",
    "\n",
    "#will show the shape of 2D array\n",
    "print(two_dimen_array.shape)\n",
    "\n",
    "#will show the data type of the array\n",
    "print(two_dimen_array.dtype)\n",
    "\n",
    "two_dimen_array = np.array(two_dimen, dtype = 'float') #making the array float\n",
    "print(two_dimen_array)\n",
    "print(two_dimen_array.dtype)"
   ]
  },
  {
   "cell_type": "code",
   "execution_count": 42,
   "metadata": {},
   "outputs": [
    {
     "data": {
      "text/plain": [
       "'Mango'"
      ]
     },
     "execution_count": 42,
     "metadata": {},
     "output_type": "execute_result"
    }
   ],
   "source": [
    "#Accessing element from 1D array.\n",
    "fruits = np.array(['Strawberry', 'Mango', 'Lichi', 'Grapes', 'Watermelon'])\n",
    "fruits[1]\n"
   ]
  },
  {
   "cell_type": "code",
   "execution_count": 45,
   "metadata": {},
   "outputs": [
    {
     "name": "stdout",
     "output_type": "stream",
     "text": [
      "[['Strawberry' 'Mango' 'Lichi' 'Grapes' 'Watermelon']\n",
      " ['130' '165' '150' '150' '140']]\n",
      "['Strawberry' 'Mango' 'Lichi' 'Grapes' 'Watermelon'] \n",
      "\n",
      "Mango\n"
     ]
    }
   ],
   "source": [
    "#Accessing element from 2D array.\n",
    "fruits = np.array(['Strawberry', 'Mango', 'Lichi', 'Grapes', 'Watermelon'])\n",
    "price = [130, 165, 150, 150, 140]\n",
    "\n",
    "#importing two list into a 2D array\n",
    "fruits_price_array = np.array([fruits, price])\n",
    "print(fruits_price_array)\n",
    "\n",
    "#accesing a row\n",
    "print(fruits_price_array[0], \"\\n\")\n",
    "\n",
    "#accesing a single cell\n",
    "print(fruits_price_array[0,1])"
   ]
  },
  {
   "cell_type": "code",
   "execution_count": 46,
   "metadata": {},
   "outputs": [
    {
     "name": "stdout",
     "output_type": "stream",
     "text": [
      "[165, 150]\n"
     ]
    }
   ],
   "source": [
    "#1d arrray slicing\n",
    "\n",
    "price = [130, 165, 150, 150, 140]\n",
    "print(price[1:3])"
   ]
  },
  {
   "cell_type": "code",
   "execution_count": 47,
   "metadata": {},
   "outputs": [
    {
     "name": "stdout",
     "output_type": "stream",
     "text": [
      "[['Strawberry' 'Mango' 'Lichi' 'Grapes' 'Watermelon']\n",
      " ['130' '165' '150' '150' '140']\n",
      " ['18' '15' '18' '16' '17']] \n",
      " \n",
      "\n",
      "[['165' '150']\n",
      " ['15' '18']]\n"
     ]
    }
   ],
   "source": [
    "#2D arrray slicing\n",
    "fruits = np.array(['Strawberry', 'Mango', 'Lichi', 'Grapes', 'Watermelon'])\n",
    "price = [130, 165, 150, 150, 140]\n",
    "numbers = [18, 15, 18, 16, 17]\n",
    "\n",
    "fruits_price_numbers = np.array([fruits, price,numbers])\n",
    "print(fruits_price_numbers, \"\\n \\n\")\n",
    "\n",
    "print(fruits_price_numbers[1:3, 1:3]) #[row, colum]\n",
    "\n"
   ]
  },
  {
   "cell_type": "code",
   "execution_count": 50,
   "metadata": {},
   "outputs": [
    {
     "name": "stdout",
     "output_type": "stream",
     "text": [
      "Mean =  155.0\n",
      "Median =  150.0\n",
      "Min =  130\n",
      "Max =  190\n",
      "Index of Minimum :  0\n",
      "Index of Maximum :  3\n"
     ]
    }
   ],
   "source": [
    "#mean , median , max, min, argmin, argmax\n",
    "num= np.array( [130, 165, 150, 190, 140])\n",
    "print(\"Mean = \",np.mean(num))\n",
    "print(\"Median = \",np.median(num))\n",
    "print(\"Min = \",np.min(num))\n",
    "print(\"Max = \",np.max(num))\n",
    "print(\"Index of Minimum : \", np.argmin(num))\n",
    "print(\"Index of Maximum : \", np.argmax(num))"
   ]
  },
  {
   "cell_type": "code",
   "execution_count": 51,
   "metadata": {},
   "outputs": [
    {
     "name": "stdout",
     "output_type": "stream",
     "text": [
      "(array([1, 2, 3, 4], dtype=int64),)\n"
     ]
    },
    {
     "data": {
      "text/plain": [
       "array([165, 150, 190, 140])"
      ]
     },
     "execution_count": 51,
     "metadata": {},
     "output_type": "execute_result"
    }
   ],
   "source": [
    "#where - filter data\n",
    "num= np.array( [130, 165, 150, 190, 140])\n",
    "x = np.where(num > 130)\n",
    "print(x)\n",
    "num[x]"
   ]
  },
  {
   "cell_type": "code",
   "execution_count": 53,
   "metadata": {},
   "outputs": [
    {
     "name": "stdout",
     "output_type": "stream",
     "text": [
      "original array:  [130 165 150 190 140]\n",
      "Sorted array:  [130 140 150 165 190]\n",
      "original array after sorting:  [130 165 150 190 140]\n",
      "array.sort() :   [130 140 150 165 190]\n"
     ]
    }
   ],
   "source": [
    "#sorting\n",
    "num= np.array( [130, 165, 150, 190, 140])\n",
    "print('original array: ', num)\n",
    "print('Sorted array: ', np.sort(num)) #temporary sort\n",
    "print('original array after sorting: ', num)\n",
    "num.sort() #permanent sort\n",
    "print('array.sort() :  ', num)"
   ]
  },
  {
   "cell_type": "code",
   "execution_count": 56,
   "metadata": {},
   "outputs": [
    {
     "name": "stdout",
     "output_type": "stream",
     "text": [
      "359\n",
      "[80 95 40 69 95]\n",
      "[ 82  98  44  74 101]\n"
     ]
    }
   ],
   "source": [
    "#Vectorized operations\n",
    "\n",
    "marks= np.array([78, 92, 36, 64, 89])\n",
    "print(np.sum(marks)) #sum of all elements (1D array)\n",
    "\n",
    "aditional = [2,3,4,5,6]\n",
    "marks+=aditional #sum of array and list\n",
    "print(marks)\n",
    "\n",
    "marks = np.add(marks,aditional) #2D array\n",
    "print(marks)\n",
    "\n"
   ]
  },
  {
   "cell_type": "code",
   "execution_count": 74,
   "metadata": {},
   "outputs": [
    {
     "name": "stdout",
     "output_type": "stream",
     "text": [
      "[ 6  8 10 12]\n",
      "[4 4 4 4]\n",
      "[-5 -6 -7 -8]\n",
      "[ 5 12 21 32]\n",
      "[5.         3.         2.33333333 2.        ]\n",
      "[5 3 2 2]\n",
      "[   5   36  343 4096]\n",
      "[0 0 1 0]\n"
     ]
    }
   ],
   "source": [
    "#operations for 2D array\n",
    "\n",
    "a = np.array([5,6,7,8])\n",
    "b = np.array([1,2,3,4])\n",
    "\n",
    "print(np.add(a,b))\n",
    "print(np.subtract(a,b))\n",
    "print(np.negative(a))\n",
    "print(np.multiply(a,b))\n",
    "print(np.divide(a,b))\n",
    "print(np.floor_divide(a,b))\n",
    "print(np.power(a,b))\n",
    "print(np.mod(a,b))\n",
    "\n"
   ]
  },
  {
   "cell_type": "code",
   "execution_count": 108,
   "metadata": {},
   "outputs": [
    {
     "name": "stdout",
     "output_type": "stream",
     "text": [
      "[10 15 20]\n"
     ]
    }
   ],
   "source": [
    "#Broadcasting\n",
    "\n",
    "import numpy as np\n",
    "# Array 1\n",
    "array1=np.array([5, 10, 15])\n",
    "# Array 2\n",
    "array2=np.array([5])\n",
    "print(np.add(array1,array2))\n",
    "\n",
    "#if the shape of the two array is different , then the other array will sterch it's value to calculate\n",
    "#\"Broadcasting\" refers to the term on how Numpy handles arrays with different shapes during arithmetic operations. \n",
    "# Array of smaller size is stretched or copied across the larger array.\n"
   ]
  },
  {
   "cell_type": "code",
   "execution_count": 128,
   "metadata": {},
   "outputs": [
    {
     "name": "stdout",
     "output_type": "stream",
     "text": [
      "[[67 45]\n",
      " [90 92]\n",
      " [66 72]\n",
      " [32 40]] \n",
      "\n",
      "\n",
      "[[ 72  55]\n",
      " [ 95 102]\n",
      " [ 71  82]\n",
      " [ 37  50]]\n"
     ]
    }
   ],
   "source": [
    "#one more example of broadcasting\n",
    "students_marks = np.array([[67, 45],[90, 92],[66, 72],[32, 40]])\n",
    "print(students_marks, \"\\n\\n\")\n",
    "\n",
    "extra_marks = [5,10]\n",
    "students_marks+=extra_marks\n",
    "print(students_marks)\n"
   ]
  }
 ],
 "metadata": {
  "kernelspec": {
   "display_name": "Python 3",
   "language": "python",
   "name": "python3"
  },
  "language_info": {
   "codemirror_mode": {
    "name": "ipython",
    "version": 3
   },
   "file_extension": ".py",
   "mimetype": "text/x-python",
   "name": "python",
   "nbconvert_exporter": "python",
   "pygments_lexer": "ipython3",
   "version": "3.10.9 (tags/v3.10.9:1dd9be6, Dec  6 2022, 20:01:21) [MSC v.1934 64 bit (AMD64)]"
  },
  "orig_nbformat": 4,
  "vscode": {
   "interpreter": {
    "hash": "e18b33ee6e5e8cd06d8d254838a030617f90dd1d100f1398854757ca8cfc6359"
   }
  }
 },
 "nbformat": 4,
 "nbformat_minor": 2
}
